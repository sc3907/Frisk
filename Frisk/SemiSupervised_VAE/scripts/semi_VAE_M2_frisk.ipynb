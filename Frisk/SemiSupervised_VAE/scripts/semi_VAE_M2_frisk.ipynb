{
 "cells": [
  {
   "cell_type": "markdown",
   "metadata": {},
   "source": [
    "# Semi-supervised VAE Model"
   ]
  },
  {
   "cell_type": "code",
   "execution_count": 1,
   "metadata": {},
   "outputs": [
    {
     "name": "stderr",
     "output_type": "stream",
     "text": [
      "Using TensorFlow backend.\n"
     ]
    }
   ],
   "source": [
    "%matplotlib inline\n",
    "from keras.layers import Lambda, Input, Dense, BatchNormalization\n",
    "from keras.layers.merge import concatenate\n",
    "from keras.models import Model\n",
    "from keras.datasets import mnist\n",
    "from keras.losses import mse, binary_crossentropy\n",
    "from keras.utils import plot_model\n",
    "from keras import backend as K\n",
    "from keras import metrics\n",
    "from keras.utils import np_utils\n",
    "from sklearn.model_selection import StratifiedShuffleSplit\n",
    "from sklearn.metrics import roc_auc_score, roc_curve, auc\n",
    "from keras.optimizers import Adam\n",
    "import matplotlib.pyplot as plt\n",
    "\n",
    "import numpy as np\n",
    "import matplotlib.pyplot as plt\n",
    "import argparse\n",
    "import os\n",
    "import pandas as pd\n",
    "import time\n",
    "from tqdm import tqdm"
   ]
  },
  {
   "cell_type": "markdown",
   "metadata": {},
   "source": [
    "# Dataset"
   ]
  },
  {
   "cell_type": "code",
   "execution_count": 2,
   "metadata": {},
   "outputs": [
    {
     "data": {
      "text/plain": [
       "(17740, 52)"
      ]
     },
     "execution_count": 2,
     "metadata": {},
     "output_type": "execute_result"
    }
   ],
   "source": [
    "data = pd.read_csv('./data/SVD_dimensionReduction/reduced_column52.csv', index_col=0)\n",
    "data.shape"
   ]
  },
  {
   "cell_type": "code",
   "execution_count": 3,
   "metadata": {
    "collapsed": true
   },
   "outputs": [],
   "source": [
    "data = (data - np.mean(data, 0))/ np.sqrt(np.var(data, 0))"
   ]
  },
  {
   "cell_type": "code",
   "execution_count": 4,
   "metadata": {},
   "outputs": [
    {
     "data": {
      "text/plain": [
       "(78, 52)"
      ]
     },
     "execution_count": 4,
     "metadata": {},
     "output_type": "execute_result"
    }
   ],
   "source": [
    "autism = pd.read_csv('./data/SVD_dimensionReduction/autism_SVDreduced52_combined.csv', index_col=0)\n",
    "autism = data.loc[data.index.isin(autism.index),]\n",
    "autism.shape"
   ]
  },
  {
   "cell_type": "code",
   "execution_count": 5,
   "metadata": {},
   "outputs": [
    {
     "data": {
      "text/plain": [
       "(154, 52)"
      ]
     },
     "execution_count": 5,
     "metadata": {},
     "output_type": "execute_result"
    }
   ],
   "source": [
    "control = pd.read_csv('./data/SVD_dimensionReduction/control_SVDreduced52_combined.csv', index_col=0)\n",
    "control = data.loc[data.index.isin(control.index),]\n",
    "control.shape"
   ]
  },
  {
   "cell_type": "code",
   "execution_count": 6,
   "metadata": {},
   "outputs": [
    {
     "data": {
      "text/plain": [
       "(232,)"
      ]
     },
     "execution_count": 6,
     "metadata": {},
     "output_type": "execute_result"
    }
   ],
   "source": [
    "prelabel = np.array([1,0])\n",
    "label = np.repeat(prelabel, [autism.shape[0], control.shape[0]], axis = 0)\n",
    "label.shape"
   ]
  },
  {
   "cell_type": "code",
   "execution_count": 7,
   "metadata": {
    "scrolled": true
   },
   "outputs": [
    {
     "data": {
      "text/plain": [
       "array([1, 1, 1, 1, 1, 1, 1, 1, 1, 1, 1, 1, 1, 1, 1, 1, 1, 1, 1, 1, 1, 1, 1,\n",
       "       1, 1, 1, 1, 1, 1, 1, 1, 1, 1, 1, 1, 1, 1, 1, 1, 1, 1, 1, 1, 1, 1, 1,\n",
       "       1, 1, 1, 1, 1, 1, 1, 1, 1, 1, 1, 1, 1, 1, 1, 1, 1, 1, 1, 1, 1, 1, 1,\n",
       "       1, 1, 1, 1, 1, 1, 1, 1, 1, 0, 0, 0, 0, 0, 0, 0, 0, 0, 0, 0, 0, 0, 0,\n",
       "       0, 0, 0, 0, 0, 0, 0, 0, 0, 0, 0, 0, 0, 0, 0, 0, 0, 0, 0, 0, 0, 0, 0,\n",
       "       0, 0, 0, 0, 0, 0, 0, 0, 0, 0, 0, 0, 0, 0, 0, 0, 0, 0, 0, 0, 0, 0, 0,\n",
       "       0, 0, 0, 0, 0, 0, 0, 0, 0, 0, 0, 0, 0, 0, 0, 0, 0, 0, 0, 0, 0, 0, 0,\n",
       "       0, 0, 0, 0, 0, 0, 0, 0, 0, 0, 0, 0, 0, 0, 0, 0, 0, 0, 0, 0, 0, 0, 0,\n",
       "       0, 0, 0, 0, 0, 0, 0, 0, 0, 0, 0, 0, 0, 0, 0, 0, 0, 0, 0, 0, 0, 0, 0,\n",
       "       0, 0, 0, 0, 0, 0, 0, 0, 0, 0, 0, 0, 0, 0, 0, 0, 0, 0, 0, 0, 0, 0, 0,\n",
       "       0, 0])"
      ]
     },
     "execution_count": 7,
     "metadata": {},
     "output_type": "execute_result"
    }
   ],
   "source": [
    "label"
   ]
  },
  {
   "cell_type": "code",
   "execution_count": 8,
   "metadata": {
    "collapsed": true
   },
   "outputs": [],
   "source": [
    "combine = [autism,control]\n",
    "combine = pd.concat(combine)"
   ]
  },
  {
   "cell_type": "code",
   "execution_count": 9,
   "metadata": {},
   "outputs": [
    {
     "data": {
      "text/plain": [
       "(17508, 52)"
      ]
     },
     "execution_count": 9,
     "metadata": {},
     "output_type": "execute_result"
    }
   ],
   "source": [
    "unlabeldata = data.loc[~data.index.isin(combine.index),]\n",
    "\n",
    "unlabeldata.shape"
   ]
  },
  {
   "cell_type": "code",
   "execution_count": 10,
   "metadata": {},
   "outputs": [
    {
     "name": "stderr",
     "output_type": "stream",
     "text": [
      "/Users/siying/anaconda2/lib/python2.7/site-packages/ipykernel_launcher.py:1: DeprecationWarning: This function is deprecated. Please call randint(0, 17508 + 1) instead\n",
      "  \"\"\"Entry point for launching an IPython kernel.\n"
     ]
    }
   ],
   "source": [
    "out_index = np.random.random_integers(0,unlabeldata.shape[0], size = unlabeldata.shape[0] % (3* label.shape[0] /4))"
   ]
  },
  {
   "cell_type": "code",
   "execution_count": 11,
   "metadata": {
    "scrolled": true
   },
   "outputs": [
    {
     "data": {
      "text/plain": [
       "(108,)"
      ]
     },
     "execution_count": 11,
     "metadata": {},
     "output_type": "execute_result"
    }
   ],
   "source": [
    "out_index.shape"
   ]
  },
  {
   "cell_type": "code",
   "execution_count": 12,
   "metadata": {},
   "outputs": [
    {
     "data": {
      "text/plain": [
       "(108, 52)"
      ]
     },
     "execution_count": 12,
     "metadata": {},
     "output_type": "execute_result"
    }
   ],
   "source": [
    "out_108 = unlabeldata.iloc[out_index,]\n",
    "out_108.shape"
   ]
  },
  {
   "cell_type": "code",
   "execution_count": 13,
   "metadata": {},
   "outputs": [
    {
     "data": {
      "text/plain": [
       "(17401, 52)"
      ]
     },
     "execution_count": 13,
     "metadata": {},
     "output_type": "execute_result"
    }
   ],
   "source": [
    "unlabeldata = unlabeldata.loc[~unlabeldata.index.isin(out_108.index),]\n",
    "unlabeldata.shape"
   ]
  },
  {
   "cell_type": "code",
   "execution_count": 14,
   "metadata": {},
   "outputs": [
    {
     "data": {
      "text/plain": [
       "array([229, 139, 188, 194, 134, 203,  58, 224, 226, 119, 104, 125,  62,\n",
       "        16,  31, 110,  41, 116,  59, 218, 219,  20, 198,  93, 223,  79,\n",
       "       136,  81,  29, 200,  85, 155, 156, 195, 221,  28,  37,  45, 109,\n",
       "         4, 164,  97,  65, 149, 148, 222,  67, 147,  33,  43, 107, 227,\n",
       "        72, 172,  46,  23, 111,  10, 169, 178, 118,  44,  14,  18, 186,\n",
       "         0,   5, 170,  91,  68,  70, 204, 182, 191,  32, 130, 124, 189,\n",
       "        55, 196,  80, 208, 157,  54, 215,  36, 209, 185, 162, 101, 161,\n",
       "       131,  78, 129,  87,  56,  75,  99, 231, 140,  73,  49, 192, 150,\n",
       "       190, 103,  61, 175, 151, 105, 122,  86, 113, 174, 145,  24, 176,\n",
       "         2,  60, 152, 142, 154, 133,  88,  74, 127,  66,   8,   6,  95,\n",
       "        25,   9,  27,  57, 153,  69, 181,  94, 217, 123,  71, 100, 120,\n",
       "       141,  90, 214,  53, 211, 132, 202,  77,  89,   1,  92, 228,  48,\n",
       "        83, 171,  15, 165, 146, 184, 225,  51, 187, 177, 173,  21,  17,\n",
       "       201,   3,  34, 143, 117, 144,  19,  22, 230,  96, 135, 121, 163,\n",
       "       138,  84, 193, 159,   7,  13, 207, 205,  98, 210,  30, 126, 167,\n",
       "       183, 179, 106, 128, 212,  40, 108, 220, 102,  64,  26, 114, 197,\n",
       "       115,  50,  76, 158, 160, 216, 137,  52,  82,  11, 213, 199,  35,\n",
       "       112,  39, 166,  38, 168,  47,  12, 206,  63, 180,  42])"
      ]
     },
     "execution_count": 14,
     "metadata": {},
     "output_type": "execute_result"
    }
   ],
   "source": [
    "index = np.random.permutation(range(label.shape[0]))\n",
    "index"
   ]
  },
  {
   "cell_type": "code",
   "execution_count": 15,
   "metadata": {
    "collapsed": true
   },
   "outputs": [],
   "source": [
    "combine = combine.iloc[index]\n",
    "label = label[index]"
   ]
  },
  {
   "cell_type": "code",
   "execution_count": 16,
   "metadata": {
    "collapsed": true
   },
   "outputs": [],
   "source": [
    "label = pd.DataFrame(label)\n",
    "label.index = combine.index"
   ]
  },
  {
   "cell_type": "code",
   "execution_count": 17,
   "metadata": {},
   "outputs": [
    {
     "data": {
      "text/plain": [
       "(232, 52)"
      ]
     },
     "execution_count": 17,
     "metadata": {},
     "output_type": "execute_result"
    }
   ],
   "source": [
    "combine.shape"
   ]
  },
  {
   "cell_type": "markdown",
   "metadata": {},
   "source": [
    "# Network Parameters"
   ]
  },
  {
   "cell_type": "code",
   "execution_count": 20,
   "metadata": {
    "collapsed": true
   },
   "outputs": [],
   "source": [
    "original_dim = data.shape[1]\n",
    "label_dim = 1\n",
    "\n",
    "input_shape = (original_dim, )\n",
    "label_shape = (label_dim, )\n",
    "intermediate_dim = 16\n",
    "batch_size = 58\n",
    "latent_dim = 2\n",
    "epochs = 8\n",
    "classifier_dim = 1\n",
    "num_classes = 2"
   ]
  },
  {
   "cell_type": "markdown",
   "metadata": {},
   "source": [
    "# Encoder Network"
   ]
  },
  {
   "cell_type": "code",
   "execution_count": 21,
   "metadata": {
    "collapsed": true
   },
   "outputs": [],
   "source": [
    "# VAE model = encoder + decoder\n",
    "# encoder model: the encoder is shared by labeled and unlabeled data\n",
    "x_in = Input(shape=(original_dim,), name='encoder_input')\n",
    "x_in1 = BatchNormalization()(x_in)\n",
    "y_in = Input(shape=(label_dim,), name = 'label_input')\n",
    "x = Dense(intermediate_dim, activation='relu')(x_in1)\n",
    "z_mean = Dense(latent_dim, name='z_mean')(x)\n",
    "z_log_var = Dense(latent_dim, name='z_log_var')(x)"
   ]
  },
  {
   "cell_type": "markdown",
   "metadata": {},
   "source": [
    "# Reparameterization Trick for VAE"
   ]
  },
  {
   "cell_type": "code",
   "execution_count": 22,
   "metadata": {
    "collapsed": true
   },
   "outputs": [],
   "source": [
    "# instead of sampling from Q(z|X), sample eps = N(0,I)\n",
    "# z = z_mean + sqrt(var)*eps\n",
    "\n",
    "def sampling(args):\n",
    "    \"\"\"Reparameterization trick by sampling from an isotropic unit Gaussian.\n",
    "    # Arguments:\n",
    "        args (tensor): mean and log of variance of Q(z|X)\n",
    "    # Returns:\n",
    "        z (tensor): sampled latent vector\n",
    "    \"\"\"\n",
    "\n",
    "    z_mean, z_log_var = args\n",
    "    batch = K.shape(z_mean)[0]\n",
    "    dim = K.int_shape(z_mean)[1]\n",
    "    # by default, random_normal has mean=0 and std=1.0\n",
    "    epsilon = K.random_normal(shape=(batch, dim))\n",
    "    return z_mean + K.exp(0.5 * z_log_var) * epsilon\n",
    "\n",
    "# use reparameterization trick to push the sampling out as input\n",
    "# note that \"output_shape\" isn't necessary with the TensorFlow backend\n",
    "z = Lambda(sampling, output_shape=(latent_dim,), name='z')([z_mean, z_log_var])"
   ]
  },
  {
   "cell_type": "markdown",
   "metadata": {},
   "source": [
    "# Classifier Network"
   ]
  },
  {
   "cell_type": "code",
   "execution_count": 23,
   "metadata": {
    "collapsed": true
   },
   "outputs": [],
   "source": [
    "classifier_input = Input(shape=(original_dim,), name= 'classifier_input')\n",
    "cl1 = Dense(16, activation= 'relu')(x_in1)\n",
    "#cl2 = Dense(16, activation= 'relu')(cl1)\n",
    "prob = Dense(1, activation= 'sigmoid')(cl1)\n",
    "\n",
    "_y_output = prob"
   ]
  },
  {
   "cell_type": "markdown",
   "metadata": {},
   "source": [
    "# Decoder Network"
   ]
  },
  {
   "cell_type": "code",
   "execution_count": 24,
   "metadata": {
    "collapsed": true
   },
   "outputs": [],
   "source": [
    "# labeled decoder\n",
    "_merged = concatenate([y_in, z])\n",
    "_merged_latent = Input(shape=(label_dim+latent_dim,), name='merged_z_sampling')\n",
    "_merged_inter = Dense(intermediate_dim, activation='relu')(_merged)\n",
    "_merged_output = Dense(original_dim, activation='relu')(_merged_inter)\n",
    "\n",
    "# unlabeled decoder\n",
    "u_merged = concatenate([_y_output, z])\n",
    "u_merged_latent = Input(shape=(label_dim+latent_dim,), name='u_merged_z_sampling')\n",
    "u_merged_inter = Dense(intermediate_dim, activation='relu')(u_merged)\n",
    "u_merged_output = Dense(original_dim, activation='relu')(u_merged_inter)"
   ]
  },
  {
   "cell_type": "markdown",
   "metadata": {},
   "source": [
    "# Loss Function"
   ]
  },
  {
   "cell_type": "code",
   "execution_count": 25,
   "metadata": {
    "collapsed": true
   },
   "outputs": [],
   "source": [
    "def kl_loss(x, x_decoded_mean, z_mean=z_mean, z_log_var=z_log_var):\n",
    "    kl_loss = - 0.5 * K.sum(1. + z_log_var - K.square(z_mean) - K.exp(z_log_var), axis=-1)\n",
    "   \n",
    "    return K.mean(kl_loss)\n",
    "\n",
    "def logxy_loss(x, x_decoded_mean):\n",
    "    xent_loss = binary_crossentropy(x, x_decoded_mean)\n",
    "   \n",
    "    # p(y) for observed data is equally distributed\n",
    "    logy = np.log(1. / num_classes)\n",
    "    \n",
    "    return xent_loss - logy\n",
    "\n",
    "def labeled_vae_loss(x, x_decoded_mean):\n",
    "    return logxy_loss(x, x_decoded_mean) + kl_loss(x, x_decoded_mean)\n",
    "    \n",
    "\n",
    "def cls_loss(y, _y_output, N=label.shape[0]):\n",
    "    alpha = 0.1 * N\n",
    "    return alpha * binary_crossentropy(y, _y_output)\n",
    "\n",
    "def unlabeled_vae_loss(x, x_decoded_mean):\n",
    "    entropy = metrics.categorical_crossentropy(_y_output, _y_output)\n",
    "    # This is probably not correct, see discussion here: https://github.com/bjlkeng/sandbox/issues/3\n",
    "    labeled_loss = logxy_loss(x, x_decoded_mean) + kl_loss(x, x_decoded_mean)\n",
    "    \n",
    "    return K.mean(K.sum(_y_output * labeled_loss, axis=-1)) + entropy"
   ]
  },
  {
   "cell_type": "markdown",
   "metadata": {},
   "source": [
    "# Compile Model"
   ]
  },
  {
   "cell_type": "code",
   "execution_count": 26,
   "metadata": {},
   "outputs": [
    {
     "name": "stdout",
     "output_type": "stream",
     "text": [
      "__________________________________________________________________________________________________\n",
      "Layer (type)                    Output Shape         Param #     Connected to                     \n",
      "==================================================================================================\n",
      "encoder_input (InputLayer)      (None, 52)           0                                            \n",
      "__________________________________________________________________________________________________\n",
      "batch_normalization_2 (BatchNor (None, 52)           208         encoder_input[0][0]              \n",
      "__________________________________________________________________________________________________\n",
      "dense_2 (Dense)                 (None, 16)           848         batch_normalization_2[0][0]      \n",
      "__________________________________________________________________________________________________\n",
      "z_mean (Dense)                  (None, 2)            34          dense_2[0][0]                    \n",
      "__________________________________________________________________________________________________\n",
      "z_log_var (Dense)               (None, 2)            34          dense_2[0][0]                    \n",
      "__________________________________________________________________________________________________\n",
      "label_input (InputLayer)        (None, 1)            0                                            \n",
      "__________________________________________________________________________________________________\n",
      "z (Lambda)                      (None, 2)            0           z_mean[0][0]                     \n",
      "                                                                 z_log_var[0][0]                  \n",
      "__________________________________________________________________________________________________\n",
      "concatenate_1 (Concatenate)     (None, 3)            0           label_input[0][0]                \n",
      "                                                                 z[0][0]                          \n",
      "__________________________________________________________________________________________________\n",
      "dense_5 (Dense)                 (None, 16)           64          concatenate_1[0][0]              \n",
      "__________________________________________________________________________________________________\n",
      "dense_3 (Dense)                 (None, 16)           848         batch_normalization_2[0][0]      \n",
      "__________________________________________________________________________________________________\n",
      "dense_6 (Dense)                 (None, 52)           884         dense_5[0][0]                    \n",
      "__________________________________________________________________________________________________\n",
      "dense_4 (Dense)                 (None, 1)            17          dense_3[0][0]                    \n",
      "==================================================================================================\n",
      "Total params: 2,937\n",
      "Trainable params: 2,833\n",
      "Non-trainable params: 104\n",
      "__________________________________________________________________________________________________\n"
     ]
    }
   ],
   "source": [
    "# labeled_vae\n",
    "label_vae = Model(inputs=[x_in,y_in], outputs=[_merged_output, _y_output])\n",
    "label_vae.compile(optimizer=Adam(lr=0.0001), loss=[labeled_vae_loss, cls_loss])\n",
    "#label_vae.compile(optimizer=Adam(lr=0.0001), loss=labeled_vae_loss)\n",
    "label_vae.summary()"
   ]
  },
  {
   "cell_type": "code",
   "execution_count": 27,
   "metadata": {},
   "outputs": [
    {
     "name": "stdout",
     "output_type": "stream",
     "text": [
      "__________________________________________________________________________________________________\n",
      "Layer (type)                    Output Shape         Param #     Connected to                     \n",
      "==================================================================================================\n",
      "encoder_input (InputLayer)      (None, 52)           0                                            \n",
      "__________________________________________________________________________________________________\n",
      "batch_normalization_2 (BatchNor (None, 52)           208         encoder_input[0][0]              \n",
      "__________________________________________________________________________________________________\n",
      "dense_2 (Dense)                 (None, 16)           848         batch_normalization_2[0][0]      \n",
      "__________________________________________________________________________________________________\n",
      "dense_3 (Dense)                 (None, 16)           848         batch_normalization_2[0][0]      \n",
      "__________________________________________________________________________________________________\n",
      "z_mean (Dense)                  (None, 2)            34          dense_2[0][0]                    \n",
      "__________________________________________________________________________________________________\n",
      "z_log_var (Dense)               (None, 2)            34          dense_2[0][0]                    \n",
      "__________________________________________________________________________________________________\n",
      "dense_4 (Dense)                 (None, 1)            17          dense_3[0][0]                    \n",
      "__________________________________________________________________________________________________\n",
      "z (Lambda)                      (None, 2)            0           z_mean[0][0]                     \n",
      "                                                                 z_log_var[0][0]                  \n",
      "__________________________________________________________________________________________________\n",
      "concatenate_2 (Concatenate)     (None, 3)            0           dense_4[0][0]                    \n",
      "                                                                 z[0][0]                          \n",
      "__________________________________________________________________________________________________\n",
      "dense_7 (Dense)                 (None, 16)           64          concatenate_2[0][0]              \n",
      "__________________________________________________________________________________________________\n",
      "dense_8 (Dense)                 (None, 52)           884         dense_7[0][0]                    \n",
      "==================================================================================================\n",
      "Total params: 2,937\n",
      "Trainable params: 2,833\n",
      "Non-trainable params: 104\n",
      "__________________________________________________________________________________________________\n"
     ]
    }
   ],
   "source": [
    "# unlabeled_vae\n",
    "unlabeled_vae = Model(inputs=x_in, outputs=u_merged_output)\n",
    "unlabeled_vae.compile(optimizer='adam', loss=unlabeled_vae_loss)\n",
    "unlabeled_vae.summary()"
   ]
  },
  {
   "cell_type": "code",
   "execution_count": 28,
   "metadata": {
    "collapsed": true
   },
   "outputs": [],
   "source": [
    "classifier = Model(inputs=[x_in], outputs=[_y_output])"
   ]
  },
  {
   "cell_type": "markdown",
   "metadata": {},
   "source": [
    "# Fit Model"
   ]
  },
  {
   "cell_type": "code",
   "execution_count": 29,
   "metadata": {
    "collapsed": true
   },
   "outputs": [],
   "source": [
    "from tqdm import tnrange, tqdm_notebook\n",
    "def fit_model(X_unlabeled, X_labeled, y_labeled, epochs):\n",
    "    #assert len(X_unlabeled) % len(X_labeled) == 0, \\\n",
    "    #       (len(X_unlabeled), batch_size, len(X_labeled))\n",
    "    start = time.time()\n",
    "    history = []\n",
    "    \n",
    "    for epoch in tnrange(epochs):\n",
    "        unlabeled_index = np.arange(len(X_unlabeled))\n",
    "        np.random.shuffle(unlabeled_index)\n",
    "        \n",
    "        auc = []\n",
    "        # Repeat the labeled data to match length of unlabeled data\n",
    "        labeled_index = []\n",
    "        for i in range(len(X_unlabeled) // len(X_labeled)):\n",
    "            l = np.arange(len(X_labeled))\n",
    "            np.random.shuffle(l)\n",
    "            labeled_index.append(l)\n",
    "        labeled_index = np.concatenate(labeled_index)\n",
    "        \n",
    "        batches = len(X_unlabeled) // batch_size\n",
    "        \n",
    "        with tqdm_notebook(batches, leave=True) as pbar:\n",
    "            for i in range(batches):\n",
    "                # Labeled\n",
    "            \n",
    "                index_range =  labeled_index[i * batch_size:(i+1) * batch_size]    \n",
    "                loss = label_vae.train_on_batch([X_labeled.iloc[index_range,], y_labeled.iloc[index_range,]],   \n",
    "                                                [X_labeled.iloc[index_range,], y_labeled.iloc[index_range,]]) \n",
    "                \n",
    "                pred = classifier.predict(X_labeled.iloc[index_range,], batch_size=batch_size)\n",
    "                \n",
    "                auc.append(roc_auc_score(y_labeled.iloc[index_range, ], pred)) \n",
    "                \n",
    "                # Unlabeled\n",
    "                index_range =  unlabeled_index[i * batch_size:(i+1) * batch_size]\n",
    "                loss += [unlabeled_vae.train_on_batch(X_unlabeled.iloc[index_range,],  X_unlabeled.iloc[index_range,])]\n",
    "                \n",
    "                pbar.desc = 'Loss: %s' % loss\n",
    "                history.append(loss)\n",
    "                pbar.update(1)\n",
    "                \n",
    "        auc_mean = np.mean(auc)\n",
    "        print(' * Roc_auc_train: %.1f %%' % (100. * auc_mean)) \n",
    "    \n",
    "   \n",
    "    done = time.time()\n",
    "    elapsed = done - start\n",
    "    print(\"Elapsed: \", elapsed)\n",
    "    \n",
    "    return history"
   ]
  },
  {
   "cell_type": "code",
   "execution_count": 30,
   "metadata": {},
   "outputs": [
    {
     "name": "stdout",
     "output_type": "stream",
     "text": [
      "Fitting with sample_size: 232\n"
     ]
    },
    {
     "data": {
      "application/vnd.jupyter.widget-view+json": {
       "model_id": "9c461b06d2214997929d440079bd14a9",
       "version_major": 2,
       "version_minor": 0
      },
      "text/plain": [
       "A Jupyter Widget"
      ]
     },
     "metadata": {},
     "output_type": "display_data"
    },
    {
     "data": {
      "application/vnd.jupyter.widget-view+json": {
       "model_id": "f89433bd4ced4c1ba01b04af7025f3f8",
       "version_major": 2,
       "version_minor": 0
      },
      "text/plain": [
       "A Jupyter Widget"
      ]
     },
     "metadata": {},
     "output_type": "display_data"
    },
    {
     "name": "stdout",
     "output_type": "stream",
     "text": [
      " * Roc_auc_train: 68.4 %\n"
     ]
    },
    {
     "data": {
      "application/vnd.jupyter.widget-view+json": {
       "model_id": "f9e4a17173eb4d4c913ae7d5db5c444e",
       "version_major": 2,
       "version_minor": 0
      },
      "text/plain": [
       "A Jupyter Widget"
      ]
     },
     "metadata": {},
     "output_type": "display_data"
    },
    {
     "name": "stdout",
     "output_type": "stream",
     "text": [
      " * Roc_auc_train: 80.9 %\n"
     ]
    },
    {
     "data": {
      "application/vnd.jupyter.widget-view+json": {
       "model_id": "611c63e6734b42468c9c83179e014ed1",
       "version_major": 2,
       "version_minor": 0
      },
      "text/plain": [
       "A Jupyter Widget"
      ]
     },
     "metadata": {},
     "output_type": "display_data"
    },
    {
     "name": "stdout",
     "output_type": "stream",
     "text": [
      " * Roc_auc_train: 84.0 %\n"
     ]
    },
    {
     "data": {
      "application/vnd.jupyter.widget-view+json": {
       "model_id": "911cdf94672d4112aacd0d3ee3caa2c8",
       "version_major": 2,
       "version_minor": 0
      },
      "text/plain": [
       "A Jupyter Widget"
      ]
     },
     "metadata": {},
     "output_type": "display_data"
    },
    {
     "name": "stdout",
     "output_type": "stream",
     "text": [
      " * Roc_auc_train: 86.3 %\n"
     ]
    },
    {
     "data": {
      "application/vnd.jupyter.widget-view+json": {
       "model_id": "616d3fee4d7d4332aef2d4fbb1246747",
       "version_major": 2,
       "version_minor": 0
      },
      "text/plain": [
       "A Jupyter Widget"
      ]
     },
     "metadata": {},
     "output_type": "display_data"
    },
    {
     "name": "stdout",
     "output_type": "stream",
     "text": [
      " * Roc_auc_train: 87.9 %\n"
     ]
    },
    {
     "data": {
      "application/vnd.jupyter.widget-view+json": {
       "model_id": "11bc6050ae7a4eb6bce5fb0e72ed2d96",
       "version_major": 2,
       "version_minor": 0
      },
      "text/plain": [
       "A Jupyter Widget"
      ]
     },
     "metadata": {},
     "output_type": "display_data"
    },
    {
     "name": "stdout",
     "output_type": "stream",
     "text": [
      " * Roc_auc_train: 89.0 %\n"
     ]
    },
    {
     "data": {
      "application/vnd.jupyter.widget-view+json": {
       "model_id": "fc09fbced6b448029083102d4c254cca",
       "version_major": 2,
       "version_minor": 0
      },
      "text/plain": [
       "A Jupyter Widget"
      ]
     },
     "metadata": {},
     "output_type": "display_data"
    },
    {
     "name": "stdout",
     "output_type": "stream",
     "text": [
      " * Roc_auc_train: 89.8 %\n"
     ]
    },
    {
     "data": {
      "application/vnd.jupyter.widget-view+json": {
       "model_id": "02cfea7ab5c741a09b10b42819fcf69b",
       "version_major": 2,
       "version_minor": 0
      },
      "text/plain": [
       "A Jupyter Widget"
      ]
     },
     "metadata": {},
     "output_type": "display_data"
    },
    {
     "name": "stdout",
     "output_type": "stream",
     "text": [
      " * Roc_auc_train: 90.9 %\n",
      "\n",
      "('Elapsed: ', 34.167587995529175)\n"
     ]
    },
    {
     "data": {
      "application/vnd.jupyter.widget-view+json": {
       "model_id": "7ef83bcb68a04120850e704937a4086e",
       "version_major": 2,
       "version_minor": 0
      },
      "text/plain": [
       "A Jupyter Widget"
      ]
     },
     "metadata": {},
     "output_type": "display_data"
    },
    {
     "data": {
      "application/vnd.jupyter.widget-view+json": {
       "model_id": "df220d7178cf466788e74e28d850ee9c",
       "version_major": 2,
       "version_minor": 0
      },
      "text/plain": [
       "A Jupyter Widget"
      ]
     },
     "metadata": {},
     "output_type": "display_data"
    },
    {
     "name": "stdout",
     "output_type": "stream",
     "text": [
      " * Roc_auc_train: 87.9 %\n"
     ]
    },
    {
     "data": {
      "application/vnd.jupyter.widget-view+json": {
       "model_id": "502fd80e966d44cb9e30d00028f27563",
       "version_major": 2,
       "version_minor": 0
      },
      "text/plain": [
       "A Jupyter Widget"
      ]
     },
     "metadata": {},
     "output_type": "display_data"
    },
    {
     "name": "stdout",
     "output_type": "stream",
     "text": [
      " * Roc_auc_train: 89.7 %\n"
     ]
    },
    {
     "data": {
      "application/vnd.jupyter.widget-view+json": {
       "model_id": "5d5e8047ab2a4d86ba684f13606aff0f",
       "version_major": 2,
       "version_minor": 0
      },
      "text/plain": [
       "A Jupyter Widget"
      ]
     },
     "metadata": {},
     "output_type": "display_data"
    },
    {
     "name": "stdout",
     "output_type": "stream",
     "text": [
      " * Roc_auc_train: 91.2 %\n"
     ]
    },
    {
     "data": {
      "application/vnd.jupyter.widget-view+json": {
       "model_id": "443d85994bf7481486bf620bd4422ed9",
       "version_major": 2,
       "version_minor": 0
      },
      "text/plain": [
       "A Jupyter Widget"
      ]
     },
     "metadata": {},
     "output_type": "display_data"
    },
    {
     "name": "stdout",
     "output_type": "stream",
     "text": [
      " * Roc_auc_train: 92.5 %\n"
     ]
    },
    {
     "data": {
      "application/vnd.jupyter.widget-view+json": {
       "model_id": "ae9632fdf1f1492a9b148194d87e92d6",
       "version_major": 2,
       "version_minor": 0
      },
      "text/plain": [
       "A Jupyter Widget"
      ]
     },
     "metadata": {},
     "output_type": "display_data"
    },
    {
     "name": "stdout",
     "output_type": "stream",
     "text": [
      " * Roc_auc_train: 92.9 %\n"
     ]
    },
    {
     "data": {
      "application/vnd.jupyter.widget-view+json": {
       "model_id": "1f8ddca9d2de4cdea2a11e7b765a9f1c",
       "version_major": 2,
       "version_minor": 0
      },
      "text/plain": [
       "A Jupyter Widget"
      ]
     },
     "metadata": {},
     "output_type": "display_data"
    },
    {
     "name": "stdout",
     "output_type": "stream",
     "text": [
      " * Roc_auc_train: 93.9 %\n"
     ]
    },
    {
     "data": {
      "application/vnd.jupyter.widget-view+json": {
       "model_id": "4606f36908004ecdbe311f2b3c995b0f",
       "version_major": 2,
       "version_minor": 0
      },
      "text/plain": [
       "A Jupyter Widget"
      ]
     },
     "metadata": {},
     "output_type": "display_data"
    },
    {
     "name": "stdout",
     "output_type": "stream",
     "text": [
      " * Roc_auc_train: 94.4 %\n"
     ]
    },
    {
     "data": {
      "application/vnd.jupyter.widget-view+json": {
       "model_id": "db33ebe1f2f040109b213fdbe479ea39",
       "version_major": 2,
       "version_minor": 0
      },
      "text/plain": [
       "A Jupyter Widget"
      ]
     },
     "metadata": {},
     "output_type": "display_data"
    },
    {
     "name": "stdout",
     "output_type": "stream",
     "text": [
      " * Roc_auc_train: 95.0 %\n",
      "\n",
      "('Elapsed: ', 30.332669019699097)\n"
     ]
    },
    {
     "data": {
      "application/vnd.jupyter.widget-view+json": {
       "model_id": "5a89219dc99e42f284e67c8cb4f798df",
       "version_major": 2,
       "version_minor": 0
      },
      "text/plain": [
       "A Jupyter Widget"
      ]
     },
     "metadata": {},
     "output_type": "display_data"
    },
    {
     "data": {
      "application/vnd.jupyter.widget-view+json": {
       "model_id": "c06eb9c580cf427e8a7954a689a0d763",
       "version_major": 2,
       "version_minor": 0
      },
      "text/plain": [
       "A Jupyter Widget"
      ]
     },
     "metadata": {},
     "output_type": "display_data"
    },
    {
     "name": "stdout",
     "output_type": "stream",
     "text": [
      " * Roc_auc_train: 92.9 %\n"
     ]
    },
    {
     "data": {
      "application/vnd.jupyter.widget-view+json": {
       "model_id": "695e0225612a4843a3757a1079c6dd1a",
       "version_major": 2,
       "version_minor": 0
      },
      "text/plain": [
       "A Jupyter Widget"
      ]
     },
     "metadata": {},
     "output_type": "display_data"
    },
    {
     "name": "stdout",
     "output_type": "stream",
     "text": [
      " * Roc_auc_train: 93.8 %\n"
     ]
    },
    {
     "data": {
      "application/vnd.jupyter.widget-view+json": {
       "model_id": "ae46c2481e774e21b4ac815aeb9799ed",
       "version_major": 2,
       "version_minor": 0
      },
      "text/plain": [
       "A Jupyter Widget"
      ]
     },
     "metadata": {},
     "output_type": "display_data"
    },
    {
     "name": "stdout",
     "output_type": "stream",
     "text": [
      " * Roc_auc_train: 94.3 %\n"
     ]
    },
    {
     "data": {
      "application/vnd.jupyter.widget-view+json": {
       "model_id": "3b7dc3b60bbb4dcaa64d57b3527949c8",
       "version_major": 2,
       "version_minor": 0
      },
      "text/plain": [
       "A Jupyter Widget"
      ]
     },
     "metadata": {},
     "output_type": "display_data"
    },
    {
     "name": "stdout",
     "output_type": "stream",
     "text": [
      " * Roc_auc_train: 94.6 %\n"
     ]
    },
    {
     "data": {
      "application/vnd.jupyter.widget-view+json": {
       "model_id": "136231f1e6d041c792e015eedd3c5240",
       "version_major": 2,
       "version_minor": 0
      },
      "text/plain": [
       "A Jupyter Widget"
      ]
     },
     "metadata": {},
     "output_type": "display_data"
    },
    {
     "name": "stdout",
     "output_type": "stream",
     "text": [
      " * Roc_auc_train: 94.8 %\n"
     ]
    },
    {
     "data": {
      "application/vnd.jupyter.widget-view+json": {
       "model_id": "d94188f756b448e695e084286d7e9e17",
       "version_major": 2,
       "version_minor": 0
      },
      "text/plain": [
       "A Jupyter Widget"
      ]
     },
     "metadata": {},
     "output_type": "display_data"
    },
    {
     "name": "stdout",
     "output_type": "stream",
     "text": [
      " * Roc_auc_train: 95.1 %\n"
     ]
    },
    {
     "data": {
      "application/vnd.jupyter.widget-view+json": {
       "model_id": "8b77dd31a7004d8e9efad05f7aedbfa6",
       "version_major": 2,
       "version_minor": 0
      },
      "text/plain": [
       "A Jupyter Widget"
      ]
     },
     "metadata": {},
     "output_type": "display_data"
    },
    {
     "name": "stdout",
     "output_type": "stream",
     "text": [
      " * Roc_auc_train: 95.1 %\n"
     ]
    },
    {
     "data": {
      "application/vnd.jupyter.widget-view+json": {
       "model_id": "96cfe263eb014d02bcdb90553422b4a3",
       "version_major": 2,
       "version_minor": 0
      },
      "text/plain": [
       "A Jupyter Widget"
      ]
     },
     "metadata": {},
     "output_type": "display_data"
    },
    {
     "name": "stdout",
     "output_type": "stream",
     "text": [
      " * Roc_auc_train: 95.5 %\n",
      "\n",
      "('Elapsed: ', 28.872174978256226)\n"
     ]
    },
    {
     "data": {
      "application/vnd.jupyter.widget-view+json": {
       "model_id": "aa5da86cb5034e93bc27d399ba023f0a",
       "version_major": 2,
       "version_minor": 0
      },
      "text/plain": [
       "A Jupyter Widget"
      ]
     },
     "metadata": {},
     "output_type": "display_data"
    },
    {
     "data": {
      "application/vnd.jupyter.widget-view+json": {
       "model_id": "c3d2140d4d5b484d8b6e31f1e0a79ab5",
       "version_major": 2,
       "version_minor": 0
      },
      "text/plain": [
       "A Jupyter Widget"
      ]
     },
     "metadata": {},
     "output_type": "display_data"
    },
    {
     "name": "stdout",
     "output_type": "stream",
     "text": [
      " * Roc_auc_train: 95.1 %\n"
     ]
    },
    {
     "data": {
      "application/vnd.jupyter.widget-view+json": {
       "model_id": "78db34020f3044469fa503beda1d7e9c",
       "version_major": 2,
       "version_minor": 0
      },
      "text/plain": [
       "A Jupyter Widget"
      ]
     },
     "metadata": {},
     "output_type": "display_data"
    },
    {
     "name": "stdout",
     "output_type": "stream",
     "text": [
      " * Roc_auc_train: 96.0 %\n"
     ]
    },
    {
     "data": {
      "application/vnd.jupyter.widget-view+json": {
       "model_id": "4cdb93bd4361429b90a81486da478d4b",
       "version_major": 2,
       "version_minor": 0
      },
      "text/plain": [
       "A Jupyter Widget"
      ]
     },
     "metadata": {},
     "output_type": "display_data"
    },
    {
     "name": "stdout",
     "output_type": "stream",
     "text": [
      " * Roc_auc_train: 96.7 %\n"
     ]
    },
    {
     "data": {
      "application/vnd.jupyter.widget-view+json": {
       "model_id": "2cead779c98040769bf5ae6989c3ee0f",
       "version_major": 2,
       "version_minor": 0
      },
      "text/plain": [
       "A Jupyter Widget"
      ]
     },
     "metadata": {},
     "output_type": "display_data"
    },
    {
     "name": "stdout",
     "output_type": "stream",
     "text": [
      " * Roc_auc_train: 96.3 %\n"
     ]
    },
    {
     "data": {
      "application/vnd.jupyter.widget-view+json": {
       "model_id": "2618420df0ea43b7a57ed7a4bb64631c",
       "version_major": 2,
       "version_minor": 0
      },
      "text/plain": [
       "A Jupyter Widget"
      ]
     },
     "metadata": {},
     "output_type": "display_data"
    },
    {
     "name": "stdout",
     "output_type": "stream",
     "text": [
      " * Roc_auc_train: 96.0 %\n"
     ]
    },
    {
     "data": {
      "application/vnd.jupyter.widget-view+json": {
       "model_id": "78c98ad1d487419f907d37424ad55a4a",
       "version_major": 2,
       "version_minor": 0
      },
      "text/plain": [
       "A Jupyter Widget"
      ]
     },
     "metadata": {},
     "output_type": "display_data"
    },
    {
     "name": "stdout",
     "output_type": "stream",
     "text": [
      " * Roc_auc_train: 96.4 %\n"
     ]
    },
    {
     "data": {
      "application/vnd.jupyter.widget-view+json": {
       "model_id": "261c0bffb03549c883573a98588810c1",
       "version_major": 2,
       "version_minor": 0
      },
      "text/plain": [
       "A Jupyter Widget"
      ]
     },
     "metadata": {},
     "output_type": "display_data"
    },
    {
     "name": "stdout",
     "output_type": "stream",
     "text": [
      " * Roc_auc_train: 96.8 %\n"
     ]
    },
    {
     "data": {
      "application/vnd.jupyter.widget-view+json": {
       "model_id": "06f0f2e5a73741bf8d2110177609631f",
       "version_major": 2,
       "version_minor": 0
      },
      "text/plain": [
       "A Jupyter Widget"
      ]
     },
     "metadata": {},
     "output_type": "display_data"
    },
    {
     "name": "stdout",
     "output_type": "stream",
     "text": [
      " * Roc_auc_train: 96.5 %\n",
      "\n",
      "('Elapsed: ', 30.49074387550354)\n",
      " * Fit time elapsed: 124.9s\n"
     ]
    },
    {
     "data": {
      "image/png": "[encoded data removed]",
      "text/plain": [
       "<matplotlib.figure.Figure at 0x1a13f09410>"
      ]
     },
     "metadata": {},
     "output_type": "display_data"
    }
   ],
   "source": [
    "sample_size = label.shape[0]\n",
    "start = time.time()\n",
    "print('Fitting with sample_size: {}'.format(sample_size))\n",
    "\n",
    "#if sample_size < len(x_train):\n",
    "#   sss = StratifiedShuffleSplit(n_splits=2, test_size=sample_size / len(x_train), random_state=0)\n",
    "#    _, index = sss.split(x_train, y_train)\n",
    "#    X, y = x_train.iloc[index[1],], y_train[index[1]]\n",
    "#    X_others, _ = x_train.iloc[index[0],], y_train[index[0]]\n",
    "#else:\n",
    "\n",
    "from scipy import interp\n",
    "from itertools import cycle\n",
    "from sklearn.model_selection import KFold\n",
    "\n",
    "cv = KFold(n_splits=4)\n",
    "\n",
    "tprs = []\n",
    "aucs = []\n",
    "mean_fpr = np.linspace(0, 1, 100)\n",
    "\n",
    "i = 0\n",
    "for train, test in cv.split(combine, label):\n",
    "    \n",
    "        X, y = combine.iloc[train, ], label.iloc[train, ]\n",
    "\n",
    "        history = fit_model(unlabeldata, X, y, epochs=epochs)\n",
    "\n",
    "        #classifier = Model(inputs=[x_in], outputs=[_y_output])\n",
    "\n",
    "        y_pred = classifier.predict(combine.iloc[test,])\n",
    "        \n",
    "            \n",
    "        # Compute ROC curve and area the curve\n",
    "        fpr, tpr, thresholds = roc_curve(label.iloc[test,], y_pred[:,0])\n",
    "        tprs.append(interp(mean_fpr, fpr, tpr))\n",
    "        tprs[-1][0] = 0.0\n",
    "        roc_auc = auc(fpr, tpr)\n",
    "        aucs.append(roc_auc)\n",
    "        plt.plot(fpr, tpr, lw=1, alpha=0.3,label='ROC fold %d (AUC = %0.2f)' % (i, roc_auc))\n",
    "\n",
    "        i += 1\n",
    "plt.plot([0, 1], [0, 1], linestyle='--', lw=2, color='r',alpha=.8)\n",
    "\n",
    "mean_tpr = np.mean(tprs, axis=0)\n",
    "mean_tpr[-1] = 1.0\n",
    "mean_auc = auc(mean_fpr, mean_tpr)\n",
    "std_auc = np.std(aucs)\n",
    "plt.plot(mean_fpr, mean_tpr, color='b',label=r'Mean ROC (AUC = %0.2f $\\pm$ %0.2f)' % (mean_auc, std_auc),lw=2, alpha=.8)\n",
    "\n",
    "std_tpr = np.std(tprs, axis=0)\n",
    "tprs_upper = np.minimum(mean_tpr + std_tpr, 1)\n",
    "tprs_lower = np.maximum(mean_tpr - std_tpr, 0)\n",
    "plt.fill_between(mean_fpr, tprs_lower, tprs_upper, color='grey', alpha=.2,label=r'$\\pm$ 1 std. dev.')\n",
    "\n",
    "plt.xlim([-0.05, 1.05])\n",
    "plt.ylim([-0.05, 1.05])\n",
    "plt.xlabel('False Positive Rate')\n",
    "plt.ylabel('True Positive Rate')\n",
    "plt.title('ROC curve of 4-fold cross validation')\n",
    "plt.legend(loc=\"lower right\")\n",
    "#plt.show()\n",
    "plt.savefig('./plot/ssVAE_epo8_combined52_4ROC.pdf', bbox_inches = 'tight')\n",
    "\n",
    "end = time.time()\n",
    "elapsed = end - start\n",
    "#print(' * Roc_auc: %.1f %%' % (100. * score))\n",
    "print(' * Fit time elapsed: %.1fs' % elapsed)\n"
   ]
  },
  {
   "cell_type": "code",
   "execution_count": 31,
   "metadata": {
    "collapsed": true
   },
   "outputs": [],
   "source": [
    "prediction = classifier.predict(data)"
   ]
  },
  {
   "cell_type": "code",
   "execution_count": 33,
   "metadata": {},
   "outputs": [
    {
     "data": {
      "text/plain": [
       "(17740, 1)"
      ]
     },
     "execution_count": 33,
     "metadata": {},
     "output_type": "execute_result"
    }
   ],
   "source": [
    "prediction.shape"
   ]
  },
  {
   "cell_type": "code",
   "execution_count": 34,
   "metadata": {
    "collapsed": true
   },
   "outputs": [],
   "source": [
    "prediction = pd.DataFrame(prediction)"
   ]
  },
  {
   "cell_type": "code",
   "execution_count": 35,
   "metadata": {
    "collapsed": true
   },
   "outputs": [],
   "source": [
    "prediction.index = data.index"
   ]
  },
  {
   "cell_type": "code",
   "execution_count": 36,
   "metadata": {
    "collapsed": true
   },
   "outputs": [],
   "source": [
    "prediction.columns = ['ssVAE_score']"
   ]
  },
  {
   "cell_type": "code",
   "execution_count": 39,
   "metadata": {},
   "outputs": [],
   "source": [
    "prediction.to_csv(\"./data/SVD_dimensionReduction/ssVAE_52_prediction.csv\")"
   ]
  },
  {
   "cell_type": "code",
   "execution_count": null,
   "metadata": {
    "collapsed": true
   },
   "outputs": [],
   "source": []
  },
  {
   "cell_type": "code",
   "execution_count": null,
   "metadata": {
    "collapsed": true
   },
   "outputs": [],
   "source": []
  }
 ],
 "metadata": {
  "kernelspec": {
   "display_name": "Python 2",
   "language": "python",
   "name": "python2"
  },
  "language_info": {
   "codemirror_mode": {
    "name": "ipython",
    "version": 2
   },
   "file_extension": ".py",
   "mimetype": "text/x-python",
   "name": "python",
   "nbconvert_exporter": "python",
   "pygments_lexer": "ipython2",
   "version": "2.7.14"
  }
 },
 "nbformat": 4,
 "nbformat_minor": 2
}
